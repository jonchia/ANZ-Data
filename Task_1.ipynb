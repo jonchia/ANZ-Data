{
 "cells": [
  {
   "cell_type": "markdown",
   "id": "consistent-seafood",
   "metadata": {},
   "source": [
    "## Import libraries"
   ]
  },
  {
   "cell_type": "code",
   "execution_count": 1,
   "id": "pressing-gilbert",
   "metadata": {},
   "outputs": [],
   "source": [
    "import numpy as np\n",
    "import pandas as pd\n",
    "import matplotlib.pyplot as plt\n",
    "from matplotlib.patches import ConnectionPatch\n",
    "%matplotlib inline \n",
    "import geopandas as gdp"
   ]
  },
  {
   "cell_type": "markdown",
   "id": "equivalent-cleanup",
   "metadata": {},
   "source": [
    "## Import dataset"
   ]
  },
  {
   "cell_type": "code",
   "execution_count": 2,
   "id": "generic-nutrition",
   "metadata": {},
   "outputs": [
    {
     "data": {
      "text/plain": [
       "(12043, 23)"
      ]
     },
     "execution_count": 2,
     "metadata": {},
     "output_type": "execute_result"
    }
   ],
   "source": [
    "df = pd.read_excel(\"ANZ synthesised transaction dataset.xlsx\")\n",
    "df.shape"
   ]
  },
  {
   "cell_type": "markdown",
   "id": "through-constant",
   "metadata": {},
   "source": [
    "There are 12,0403 rows of transactions by 23 columns of data"
   ]
  },
  {
   "cell_type": "markdown",
   "id": "silver-vision",
   "metadata": {},
   "source": [
    "## Exploratory Data Analysis"
   ]
  },
  {
   "cell_type": "code",
   "execution_count": 3,
   "id": "approved-selection",
   "metadata": {},
   "outputs": [
    {
     "name": "stdout",
     "output_type": "stream",
     "text": [
      "<class 'pandas.core.frame.DataFrame'>\n",
      "RangeIndex: 12043 entries, 0 to 12042\n",
      "Data columns (total 23 columns):\n",
      " #   Column             Non-Null Count  Dtype         \n",
      "---  ------             --------------  -----         \n",
      " 0   status             12043 non-null  object        \n",
      " 1   card_present_flag  7717 non-null   float64       \n",
      " 2   bpay_biller_code   885 non-null    object        \n",
      " 3   account            12043 non-null  object        \n",
      " 4   currency           12043 non-null  object        \n",
      " 5   long_lat           12043 non-null  object        \n",
      " 6   txn_description    12043 non-null  object        \n",
      " 7   merchant_id        7717 non-null   object        \n",
      " 8   merchant_code      883 non-null    float64       \n",
      " 9   first_name         12043 non-null  object        \n",
      " 10  balance            12043 non-null  float64       \n",
      " 11  date               12043 non-null  datetime64[ns]\n",
      " 12  gender             12043 non-null  object        \n",
      " 13  age                12043 non-null  int64         \n",
      " 14  merchant_suburb    7717 non-null   object        \n",
      " 15  merchant_state     7717 non-null   object        \n",
      " 16  extraction         12043 non-null  object        \n",
      " 17  amount             12043 non-null  float64       \n",
      " 18  transaction_id     12043 non-null  object        \n",
      " 19  country            12043 non-null  object        \n",
      " 20  customer_id        12043 non-null  object        \n",
      " 21  merchant_long_lat  7717 non-null   object        \n",
      " 22  movement           12043 non-null  object        \n",
      "dtypes: datetime64[ns](1), float64(4), int64(1), object(17)\n",
      "memory usage: 2.1+ MB\n"
     ]
    }
   ],
   "source": [
    "# Getting info of the dataframe\n",
    "df.info()"
   ]
  },
  {
   "cell_type": "code",
   "execution_count": 4,
   "id": "buried-joint",
   "metadata": {},
   "outputs": [
    {
     "data": {
      "text/plain": [
       "status                   0\n",
       "card_present_flag     4326\n",
       "bpay_biller_code     11158\n",
       "account                  0\n",
       "currency                 0\n",
       "long_lat                 0\n",
       "txn_description          0\n",
       "merchant_id           4326\n",
       "merchant_code        11160\n",
       "first_name               0\n",
       "balance                  0\n",
       "date                     0\n",
       "gender                   0\n",
       "age                      0\n",
       "merchant_suburb       4326\n",
       "merchant_state        4326\n",
       "extraction               0\n",
       "amount                   0\n",
       "transaction_id           0\n",
       "country                  0\n",
       "customer_id              0\n",
       "merchant_long_lat     4326\n",
       "movement                 0\n",
       "dtype: int64"
      ]
     },
     "execution_count": 4,
     "metadata": {},
     "output_type": "execute_result"
    }
   ],
   "source": [
    "# Checking for null values\n",
    "df.isna().sum()"
   ]
  },
  {
   "cell_type": "markdown",
   "id": "surprised-stress",
   "metadata": {},
   "source": [
    "`bpay_biller_code` and `merchant_code` has almost 92% missing values. It is best to drop or ignore these columns.\n",
    "\n",
    "`merchant_id`, `merchant_suburb` and `merchant_state` has almost 35% missing values. It is not wise to make any analysis based off these columns."
   ]
  },
  {
   "cell_type": "markdown",
   "id": "homeless-element",
   "metadata": {},
   "source": [
    "### Exploring txn_description"
   ]
  },
  {
   "cell_type": "code",
   "execution_count": 5,
   "id": "persistent-legislation",
   "metadata": {},
   "outputs": [
    {
     "data": {
      "text/plain": [
       "array(['POS', 'SALES-POS', 'PAYMENT', 'INTER BANK', 'PAY/SALARY',\n",
       "       'PHONE BANK'], dtype=object)"
      ]
     },
     "execution_count": 5,
     "metadata": {},
     "output_type": "execute_result"
    }
   ],
   "source": [
    "# Exploring all unique values in txn_description\n",
    "df.txn_description.unique()"
   ]
  },
  {
   "cell_type": "markdown",
   "id": "competitive-lancaster",
   "metadata": {},
   "source": [
    "### Extract Day from Date"
   ]
  },
  {
   "cell_type": "code",
   "execution_count": 6,
   "id": "ignored-bryan",
   "metadata": {},
   "outputs": [
    {
     "data": {
      "text/plain": [
       "0   2018-08-01\n",
       "1   2018-08-01\n",
       "2   2018-08-01\n",
       "3   2018-08-01\n",
       "4   2018-08-01\n",
       "Name: date, dtype: datetime64[ns]"
      ]
     },
     "execution_count": 6,
     "metadata": {},
     "output_type": "execute_result"
    }
   ],
   "source": [
    "df['date'].head()"
   ]
  },
  {
   "cell_type": "code",
   "execution_count": 7,
   "id": "induced-boring",
   "metadata": {},
   "outputs": [
    {
     "data": {
      "text/plain": [
       "0    Wednesday\n",
       "1    Wednesday\n",
       "2    Wednesday\n",
       "3    Wednesday\n",
       "4    Wednesday\n",
       "Name: day_date, dtype: object"
      ]
     },
     "execution_count": 7,
     "metadata": {},
     "output_type": "execute_result"
    }
   ],
   "source": [
    "df['day_date'] = df['date'].dt.day_name()\n",
    "df['day_date'].head()"
   ]
  },
  {
   "cell_type": "markdown",
   "id": "limiting-trigger",
   "metadata": {},
   "source": [
    "### Exploring Gender Segment"
   ]
  },
  {
   "cell_type": "code",
   "execution_count": 8,
   "id": "first-guinea",
   "metadata": {},
   "outputs": [
    {
     "data": {
      "text/html": [
       "<div>\n",
       "<style scoped>\n",
       "    .dataframe tbody tr th:only-of-type {\n",
       "        vertical-align: middle;\n",
       "    }\n",
       "\n",
       "    .dataframe tbody tr th {\n",
       "        vertical-align: top;\n",
       "    }\n",
       "\n",
       "    .dataframe thead th {\n",
       "        text-align: right;\n",
       "    }\n",
       "</style>\n",
       "<table border=\"1\" class=\"dataframe\">\n",
       "  <thead>\n",
       "    <tr style=\"text-align: right;\">\n",
       "      <th></th>\n",
       "      <th>gender</th>\n",
       "      <th>status</th>\n",
       "    </tr>\n",
       "  </thead>\n",
       "  <tbody>\n",
       "    <tr>\n",
       "      <th>0</th>\n",
       "      <td>F</td>\n",
       "      <td>0.44</td>\n",
       "    </tr>\n",
       "    <tr>\n",
       "      <th>1</th>\n",
       "      <td>M</td>\n",
       "      <td>0.56</td>\n",
       "    </tr>\n",
       "  </tbody>\n",
       "</table>\n",
       "</div>"
      ],
      "text/plain": [
       "  gender  status\n",
       "0      F    0.44\n",
       "1      M    0.56"
      ]
     },
     "execution_count": 8,
     "metadata": {},
     "output_type": "execute_result"
    }
   ],
   "source": [
    "# Obtaining all 100 unique customers\n",
    "df_unique = df.drop_duplicates(subset=['account'])\n",
    "\n",
    "# Obtaining gender count\n",
    "df_gender = df_unique.groupby('gender',as_index=False).count()\n",
    "df_gender = df_gender[['gender','status']]\n",
    "\n",
    "# Obtain gender percentage\n",
    "df_gender['status'] = df_gender['status']/df_gender['status'].sum()\n",
    "df_gender"
   ]
  },
  {
   "cell_type": "markdown",
   "id": "arabic-divide",
   "metadata": {},
   "source": [
    "The customer segment is `56% Male` and `44% Female`."
   ]
  },
  {
   "cell_type": "markdown",
   "id": "static-delay",
   "metadata": {},
   "source": [
    "### Exploring Age Segment"
   ]
  },
  {
   "cell_type": "code",
   "execution_count": 9,
   "id": "essential-yugoslavia",
   "metadata": {},
   "outputs": [
    {
     "data": {
      "text/plain": [
       "array([18, 19, 20, 21, 22, 23, 24, 25, 26, 27, 28, 29, 30, 31, 33, 34, 35,\n",
       "       37, 38, 39, 40, 41, 42, 43, 44, 46, 47, 50, 52, 53, 64, 69, 78],\n",
       "      dtype=int64)"
      ]
     },
     "execution_count": 9,
     "metadata": {},
     "output_type": "execute_result"
    }
   ],
   "source": [
    "age = df['age'].unique()\n",
    "age.sort()\n",
    "age"
   ]
  },
  {
   "cell_type": "code",
   "execution_count": 10,
   "id": "organized-empty",
   "metadata": {},
   "outputs": [],
   "source": [
    "bins = [18,20,30,40,50,60,70,120]\n",
    "age_label = ['18-19','20-29','30-39','40-49','50-59','60-69','70+']\n",
    "df['age_label'] = pd.cut(df['age'], bins, labels = age_label, include_lowest =True)"
   ]
  },
  {
   "cell_type": "code",
   "execution_count": 11,
   "id": "equal-thumb",
   "metadata": {},
   "outputs": [
    {
     "data": {
      "text/html": [
       "<div>\n",
       "<style scoped>\n",
       "    .dataframe tbody tr th:only-of-type {\n",
       "        vertical-align: middle;\n",
       "    }\n",
       "\n",
       "    .dataframe tbody tr th {\n",
       "        vertical-align: top;\n",
       "    }\n",
       "\n",
       "    .dataframe thead th {\n",
       "        text-align: right;\n",
       "    }\n",
       "</style>\n",
       "<table border=\"1\" class=\"dataframe\">\n",
       "  <thead>\n",
       "    <tr style=\"text-align: right;\">\n",
       "      <th></th>\n",
       "      <th>age</th>\n",
       "      <th>age_label</th>\n",
       "    </tr>\n",
       "  </thead>\n",
       "  <tbody>\n",
       "    <tr>\n",
       "      <th>0</th>\n",
       "      <td>26</td>\n",
       "      <td>20-29</td>\n",
       "    </tr>\n",
       "    <tr>\n",
       "      <th>1</th>\n",
       "      <td>26</td>\n",
       "      <td>20-29</td>\n",
       "    </tr>\n",
       "    <tr>\n",
       "      <th>2</th>\n",
       "      <td>38</td>\n",
       "      <td>30-39</td>\n",
       "    </tr>\n",
       "    <tr>\n",
       "      <th>3</th>\n",
       "      <td>40</td>\n",
       "      <td>30-39</td>\n",
       "    </tr>\n",
       "    <tr>\n",
       "      <th>4</th>\n",
       "      <td>26</td>\n",
       "      <td>20-29</td>\n",
       "    </tr>\n",
       "  </tbody>\n",
       "</table>\n",
       "</div>"
      ],
      "text/plain": [
       "   age age_label\n",
       "0   26     20-29\n",
       "1   26     20-29\n",
       "2   38     30-39\n",
       "3   40     30-39\n",
       "4   26     20-29"
      ]
     },
     "execution_count": 11,
     "metadata": {},
     "output_type": "execute_result"
    }
   ],
   "source": [
    "df[['age','age_label']].head()"
   ]
  },
  {
   "cell_type": "markdown",
   "id": "canadian-merchant",
   "metadata": {},
   "source": [
    "## Transaction Insights\n",
    "### Average transaction amount across 3 months (General)"
   ]
  },
  {
   "cell_type": "code",
   "execution_count": 12,
   "id": "reflected-impossible",
   "metadata": {},
   "outputs": [
    {
     "name": "stdout",
     "output_type": "stream",
     "text": [
      "The average transaction amount is 187.93\n"
     ]
    }
   ],
   "source": [
    "# Obtain the average transaction amount from total transaction\n",
    "avg_trans = round(df['amount'].mean(),2)\n",
    "print('The average transaction amount is',avg_trans)"
   ]
  },
  {
   "cell_type": "markdown",
   "id": "continued-snowboard",
   "metadata": {},
   "source": [
    "### Average transaction amount across 3 months (Gender)"
   ]
  },
  {
   "cell_type": "code",
   "execution_count": 13,
   "id": "smart-gibson",
   "metadata": {},
   "outputs": [
    {
     "data": {
      "text/plain": [
       "gender\n",
       "F    168.52\n",
       "M    205.72\n",
       "Name: amount, dtype: float64"
      ]
     },
     "execution_count": 13,
     "metadata": {},
     "output_type": "execute_result"
    }
   ],
   "source": [
    "avg_trans_gender = round(df.groupby('gender').mean(),2)\n",
    "avg_trans_gender = avg_trans_gender['amount']\n",
    "avg_trans_gender"
   ]
  },
  {
   "cell_type": "markdown",
   "id": "julian-magnitude",
   "metadata": {},
   "source": [
    "We are able to see that `Male` has a `higher` average transaction amount as compared to `Female`. "
   ]
  },
  {
   "cell_type": "markdown",
   "id": "compressed-lemon",
   "metadata": {},
   "source": [
    "### Average transaction amount across 3 months (Age)"
   ]
  },
  {
   "cell_type": "code",
   "execution_count": 14,
   "id": "hindu-batman",
   "metadata": {},
   "outputs": [
    {
     "data": {
      "text/plain": [
       "age_label\n",
       "18-19    180.06\n",
       "20-29    165.53\n",
       "30-39    204.93\n",
       "40-49    228.43\n",
       "50-59    323.41\n",
       "60-69    154.04\n",
       "70+      318.98\n",
       "Name: amount, dtype: float64"
      ]
     },
     "execution_count": 14,
     "metadata": {},
     "output_type": "execute_result"
    }
   ],
   "source": [
    "avg_trans_age = round(df.groupby('age_label').mean(),2)\n",
    "avg_trans_age['amount']"
   ]
  },
  {
   "cell_type": "code",
   "execution_count": 15,
   "id": "smoking-cookbook",
   "metadata": {},
   "outputs": [],
   "source": [
    "avg_trans_age = avg_trans_age.reset_index()\n",
    "\n",
    "# Extract values to be plotted in bar chart\n",
    "age_label = avg_trans_age['age_label'].values.tolist()\n",
    "age_amount = avg_trans_age['amount'].values.tolist()"
   ]
  },
  {
   "cell_type": "code",
   "execution_count": 16,
   "id": "billion-america",
   "metadata": {},
   "outputs": [
    {
     "data": {
      "image/png": "[encoded data removed]",
      "text/plain": [
       "<Figure size 576x288 with 1 Axes>"
      ]
     },
     "metadata": {
      "needs_background": "light"
     },
     "output_type": "display_data"
    }
   ],
   "source": [
    "fig = plt.figure(figsize=(8,4))\n",
    "ax = fig.add_axes([0,0,1,1])\n",
    "ax.bar(age_label,age_amount,color=['#a3c7e2','#a3c7e2','#a3c7e2','#a3c7e2','#e6b8c4','#a3c7e2','#e6b8c4'])\n",
    "ax.set_xlabel('Age group')\n",
    "ax.set_ylabel('Average transaction amount')\n",
    "plt.title('Average transaction amount VS age group',fontsize=20)\n",
    "ax.tick_params(axis='x', labelsize=16)\n",
    "ax.tick_params(axis='y', labelsize=16)\n",
    "ax.xaxis.label.set_size(16)\n",
    "ax.yaxis.label.set_size(16)\n",
    "plt.show()"
   ]
  },
  {
   "cell_type": "markdown",
   "id": "optical-cannon",
   "metadata": {},
   "source": [
    "The general average transaction amount is 187.93.\n",
    "\n",
    "The age group `50-59`and `70+` has unusual average transaction amount.\n",
    "\n",
    "* The `50-59` and `70+` age group has a high average transaction amount"
   ]
  },
  {
   "cell_type": "markdown",
   "id": "constitutional-canal",
   "metadata": {},
   "source": [
    "### Average credit and debit amount across 3 months (General)"
   ]
  },
  {
   "cell_type": "code",
   "execution_count": 17,
   "id": "sweet-switch",
   "metadata": {},
   "outputs": [],
   "source": [
    "# Filter by credit and debit\n",
    "df_credit = df.loc[df['movement']=='credit']\n",
    "df_debit = df.loc[df['movement']=='debit']"
   ]
  },
  {
   "cell_type": "code",
   "execution_count": 18,
   "id": "comfortable-shakespeare",
   "metadata": {},
   "outputs": [
    {
     "name": "stdout",
     "output_type": "stream",
     "text": [
      "The average credit amount is 1898.73\n",
      "The average debit amount is 52.57\n"
     ]
    }
   ],
   "source": [
    "# Obtain the average credit amount from total transaction\n",
    "avg_trans_credit = round(df_credit['amount'].mean(),2)\n",
    "print('The average credit amount is',avg_trans_credit)\n",
    "\n",
    "# Obtain the average debit amount from total transaction\n",
    "avg_trans_debit = round(df_debit['amount'].mean(),2)\n",
    "print('The average debit amount is',avg_trans_debit)"
   ]
  },
  {
   "cell_type": "markdown",
   "id": "sapphire-armor",
   "metadata": {},
   "source": [
    "### Average credit and debit amount across 3 months (Gender)"
   ]
  },
  {
   "cell_type": "code",
   "execution_count": 19,
   "id": "continental-broadcast",
   "metadata": {},
   "outputs": [
    {
     "data": {
      "text/plain": [
       "gender\n",
       "F    1679.37\n",
       "M    2096.81\n",
       "Name: amount, dtype: float64"
      ]
     },
     "execution_count": 19,
     "metadata": {},
     "output_type": "execute_result"
    }
   ],
   "source": [
    "avg_trans_gender_credit = round(df_credit.groupby('gender').mean(),2)\n",
    "avg_trans_gender_credit = avg_trans_gender_credit['amount']\n",
    "avg_trans_gender_credit"
   ]
  },
  {
   "cell_type": "markdown",
   "id": "plain-southeast",
   "metadata": {},
   "source": [
    "We are able to see that `Male` has a `higher average credit` amount than `Female`."
   ]
  },
  {
   "cell_type": "code",
   "execution_count": 20,
   "id": "registered-magnet",
   "metadata": {},
   "outputs": [
    {
     "data": {
      "text/plain": [
       "gender\n",
       "F    49.95\n",
       "M    54.98\n",
       "Name: amount, dtype: float64"
      ]
     },
     "execution_count": 20,
     "metadata": {},
     "output_type": "execute_result"
    }
   ],
   "source": [
    "avg_trans_gender_debit = round(df_debit.groupby('gender').mean(),2)\n",
    "avg_trans_gender_debit = avg_trans_gender_debit['amount']\n",
    "avg_trans_gender_debit"
   ]
  },
  {
   "cell_type": "markdown",
   "id": "relevant-agreement",
   "metadata": {},
   "source": [
    "We are able to see that `Male` has a `higher average debit` amount than `Female."
   ]
  },
  {
   "cell_type": "markdown",
   "id": "vietnamese-bacteria",
   "metadata": {},
   "source": [
    "### Average credit and debit amount across 3 months (Age)"
   ]
  },
  {
   "cell_type": "code",
   "execution_count": 21,
   "id": "running-comedy",
   "metadata": {},
   "outputs": [
    {
     "data": {
      "text/plain": [
       "age_label\n",
       "18-19    1940.75\n",
       "20-29    1932.86\n",
       "30-39    2117.00\n",
       "40-49    1673.19\n",
       "50-59    1955.83\n",
       "60-69     818.21\n",
       "70+       782.42\n",
       "Name: amount, dtype: float64"
      ]
     },
     "execution_count": 21,
     "metadata": {},
     "output_type": "execute_result"
    }
   ],
   "source": [
    "avg_trans_age_credit = round(df_credit.groupby('age_label').mean(),2)\n",
    "avg_trans_age_credit['amount']"
   ]
  },
  {
   "cell_type": "code",
   "execution_count": 22,
   "id": "important-casting",
   "metadata": {},
   "outputs": [],
   "source": [
    "avg_trans_age_credit = avg_trans_age_credit.reset_index()\n",
    "\n",
    "# Extract values to be plotted in bar chart\n",
    "age_credit_amount = avg_trans_age_credit['amount'].values.tolist()"
   ]
  },
  {
   "cell_type": "code",
   "execution_count": 23,
   "id": "norwegian-nickname",
   "metadata": {},
   "outputs": [
    {
     "data": {
      "image/png": "[encoded data removed]",
      "text/plain": [
       "<Figure size 576x288 with 1 Axes>"
      ]
     },
     "metadata": {
      "needs_background": "light"
     },
     "output_type": "display_data"
    }
   ],
   "source": [
    "fig = plt.figure(figsize=(8,4))\n",
    "ax = fig.add_axes([0,0,1,1])\n",
    "ax.bar(age_label,age_credit_amount,color=['#a3c7e2','#a3c7e2','#a3c7e2','#a3c7e2','#a3c7e2','#e6b8c4','#e6b8c4'])\n",
    "ax.set_xlabel('Age group')\n",
    "ax.set_ylabel('Average credit amount')\n",
    "plt.title('Average credit amount VS age group',fontsize=20)\n",
    "ax.tick_params(axis='x', labelsize=16)\n",
    "ax.tick_params(axis='y', labelsize=16)\n",
    "ax.xaxis.label.set_size(16)\n",
    "ax.yaxis.label.set_size(16)\n",
    "plt.show()"
   ]
  },
  {
   "cell_type": "markdown",
   "id": "miniature-inside",
   "metadata": {},
   "source": [
    "The general average credit amount is 1898.73.\n",
    "\n",
    "The age group `60-69` and `70+` has unusual average credit amount.\n",
    "\n",
    "* The `60-69` and `70+` age group has significantly lower average credit amount."
   ]
  },
  {
   "cell_type": "code",
   "execution_count": 24,
   "id": "pediatric-artist",
   "metadata": {},
   "outputs": [
    {
     "data": {
      "text/plain": [
       "age_label\n",
       "18-19    46.47\n",
       "20-29    48.47\n",
       "30-39    55.38\n",
       "40-49    69.69\n",
       "50-59    72.27\n",
       "60-69    44.02\n",
       "70+      66.19\n",
       "Name: amount, dtype: float64"
      ]
     },
     "execution_count": 24,
     "metadata": {},
     "output_type": "execute_result"
    }
   ],
   "source": [
    "avg_trans_age_debit = round(df_debit.groupby('age_label').mean(),2)\n",
    "avg_trans_age_debit['amount']"
   ]
  },
  {
   "cell_type": "code",
   "execution_count": 25,
   "id": "manufactured-certification",
   "metadata": {},
   "outputs": [],
   "source": [
    "avg_trans_age_debit = avg_trans_age_debit.reset_index()\n",
    "\n",
    "# Extract values to be plotted in bar chart\n",
    "age_debit_amount = avg_trans_age_debit['amount'].values.tolist()"
   ]
  },
  {
   "cell_type": "code",
   "execution_count": 26,
   "id": "reverse-knife",
   "metadata": {},
   "outputs": [
    {
     "data": {
      "image/png": "[encoded data removed]",
      "text/plain": [
       "<Figure size 576x288 with 1 Axes>"
      ]
     },
     "metadata": {
      "needs_background": "light"
     },
     "output_type": "display_data"
    }
   ],
   "source": [
    "fig = plt.figure(figsize=(8,4))\n",
    "ax = fig.add_axes([0,0,1,1])\n",
    "ax.bar(age_label,age_debit_amount,color=['#a3c7e2','#a3c7e2','#a3c7e2','#e6b8c4','#e6b8c4','#a3c7e2','#e6b8c4'])\n",
    "ax.set_xlabel('Age group')\n",
    "ax.set_ylabel('Average debit amount')\n",
    "plt.title('Average debit amount VS age group',fontsize=20)\n",
    "ax.tick_params(axis='x', labelsize=16)\n",
    "ax.tick_params(axis='y', labelsize=16)\n",
    "ax.xaxis.label.set_size(16)\n",
    "ax.yaxis.label.set_size(16)\n",
    "plt.show()"
   ]
  },
  {
   "cell_type": "markdown",
   "id": "popular-saturn",
   "metadata": {},
   "source": [
    "The general average debit amount is 52.57.\n",
    "\n",
    "The age group `40-49`, `50-59` and `70+` has unusual average debit amount.\n",
    "\n",
    "These age group has a higher than average debit amount as compared to the other age groups."
   ]
  },
  {
   "cell_type": "markdown",
   "id": "convenient-hardwood",
   "metadata": {},
   "source": [
    "### Average balance for customers (General)"
   ]
  },
  {
   "cell_type": "code",
   "execution_count": 27,
   "id": "awful-alfred",
   "metadata": {},
   "outputs": [
    {
     "name": "stdout",
     "output_type": "stream",
     "text": [
      "The average balance amount is 14704.2\n"
     ]
    }
   ],
   "source": [
    "# Obtain the average balance for customer\n",
    "avg_balance = round(df['balance'].mean(),2)\n",
    "print('The average balance amount is',avg_balance)"
   ]
  },
  {
   "cell_type": "markdown",
   "id": "alternative-senegal",
   "metadata": {},
   "source": [
    "### Average balance for customers (Gender)"
   ]
  },
  {
   "cell_type": "code",
   "execution_count": 28,
   "id": "focal-shock",
   "metadata": {},
   "outputs": [
    {
     "data": {
      "text/plain": [
       "gender\n",
       "F    12061.26\n",
       "M    17125.52\n",
       "Name: balance, dtype: float64"
      ]
     },
     "execution_count": 28,
     "metadata": {},
     "output_type": "execute_result"
    }
   ],
   "source": [
    "avg_balance_gender = round(df.groupby('gender').mean(),2)\n",
    "avg_balance_gender = avg_balance_gender['balance']\n",
    "avg_balance_gender"
   ]
  },
  {
   "cell_type": "markdown",
   "id": "gorgeous-combining",
   "metadata": {},
   "source": [
    "We can see that `Male` has a `higher average balance` as compared to `Female`."
   ]
  },
  {
   "cell_type": "markdown",
   "id": "limiting-killing",
   "metadata": {},
   "source": [
    "### Average balance for customers (Age)"
   ]
  },
  {
   "cell_type": "code",
   "execution_count": 29,
   "id": "least-stuff",
   "metadata": {},
   "outputs": [
    {
     "data": {
      "text/plain": [
       "age_label\n",
       "18-19     9125.13\n",
       "20-29     8568.92\n",
       "30-39    22079.35\n",
       "40-49    28951.02\n",
       "50-59     6324.48\n",
       "60-69     4658.84\n",
       "70+      54240.64\n",
       "Name: balance, dtype: float64"
      ]
     },
     "execution_count": 29,
     "metadata": {},
     "output_type": "execute_result"
    }
   ],
   "source": [
    "avg_balance_age = round(df.groupby('age_label').mean(),2)\n",
    "avg_balance_age['balance']"
   ]
  },
  {
   "cell_type": "code",
   "execution_count": 30,
   "id": "retired-budapest",
   "metadata": {},
   "outputs": [],
   "source": [
    "avg_balance_age = avg_balance_age.reset_index()\n",
    "\n",
    "# Extract values to be plotted in bar chart\n",
    "age_bal_amount = avg_balance_age['balance'].values.tolist()"
   ]
  },
  {
   "cell_type": "code",
   "execution_count": 31,
   "id": "engaging-spain",
   "metadata": {},
   "outputs": [
    {
     "data": {
      "image/png": "[encoded data removed]",
      "text/plain": [
       "<Figure size 576x288 with 1 Axes>"
      ]
     },
     "metadata": {
      "needs_background": "light"
     },
     "output_type": "display_data"
    }
   ],
   "source": [
    "fig = plt.figure(figsize=(8,4))\n",
    "ax = fig.add_axes([0,0,1,1])\n",
    "ax.bar(age_label,age_bal_amount,color=['#a3c7e2','#a3c7e2','#a3c7e2','#a3c7e2','#a3c7e2','#a3c7e2','#e6b8c4'])\n",
    "ax.set_xlabel('Age group')\n",
    "ax.set_ylabel('Average balance amount')\n",
    "plt.title('Average balance amount VS age group',fontsize=20)\n",
    "ax.tick_params(axis='x', labelsize=16)\n",
    "ax.tick_params(axis='y', labelsize=16)\n",
    "ax.xaxis.label.set_size(16)\n",
    "ax.yaxis.label.set_size(16)\n",
    "plt.show()"
   ]
  },
  {
   "cell_type": "markdown",
   "id": "tested-young",
   "metadata": {},
   "source": [
    "The general average balance amount is 14704.20.\n",
    "\n",
    "The balance for age group 70+ seems `very high` as compared to the `other age groups`.\n",
    "\n",
    "It looks slightly suspicious. "
   ]
  },
  {
   "cell_type": "code",
   "execution_count": 32,
   "id": "tracked-funds",
   "metadata": {},
   "outputs": [
    {
     "data": {
      "text/html": [
       "<div>\n",
       "<style scoped>\n",
       "    .dataframe tbody tr th:only-of-type {\n",
       "        vertical-align: middle;\n",
       "    }\n",
       "\n",
       "    .dataframe tbody tr th {\n",
       "        vertical-align: top;\n",
       "    }\n",
       "\n",
       "    .dataframe thead th {\n",
       "        text-align: right;\n",
       "    }\n",
       "</style>\n",
       "<table border=\"1\" class=\"dataframe\">\n",
       "  <thead>\n",
       "    <tr style=\"text-align: right;\">\n",
       "      <th></th>\n",
       "      <th>age_label</th>\n",
       "      <th>account</th>\n",
       "    </tr>\n",
       "  </thead>\n",
       "  <tbody>\n",
       "    <tr>\n",
       "      <th>0</th>\n",
       "      <td>18-19</td>\n",
       "      <td>16</td>\n",
       "    </tr>\n",
       "    <tr>\n",
       "      <th>1</th>\n",
       "      <td>20-29</td>\n",
       "      <td>38</td>\n",
       "    </tr>\n",
       "    <tr>\n",
       "      <th>2</th>\n",
       "      <td>30-39</td>\n",
       "      <td>26</td>\n",
       "    </tr>\n",
       "    <tr>\n",
       "      <th>3</th>\n",
       "      <td>40-49</td>\n",
       "      <td>15</td>\n",
       "    </tr>\n",
       "    <tr>\n",
       "      <th>4</th>\n",
       "      <td>50-59</td>\n",
       "      <td>2</td>\n",
       "    </tr>\n",
       "    <tr>\n",
       "      <th>5</th>\n",
       "      <td>60-69</td>\n",
       "      <td>2</td>\n",
       "    </tr>\n",
       "    <tr>\n",
       "      <th>6</th>\n",
       "      <td>70+</td>\n",
       "      <td>1</td>\n",
       "    </tr>\n",
       "  </tbody>\n",
       "</table>\n",
       "</div>"
      ],
      "text/plain": [
       "  age_label  account\n",
       "0     18-19       16\n",
       "1     20-29       38\n",
       "2     30-39       26\n",
       "3     40-49       15\n",
       "4     50-59        2\n",
       "5     60-69        2\n",
       "6       70+        1"
      ]
     },
     "execution_count": 32,
     "metadata": {},
     "output_type": "execute_result"
    }
   ],
   "source": [
    "# Counting number of customers in each age group\n",
    "age_count_df = df.groupby('age_label')\n",
    "age_count_df = age_count_df.agg({'account':'nunique'})\n",
    "age_count_df.reset_index()"
   ]
  },
  {
   "cell_type": "markdown",
   "id": "premium-motion",
   "metadata": {},
   "source": [
    "As suspected, there is only `1 customer` that falls under the age group 70+. \n",
    "\n",
    "This customer may be an `outlier`as the `sample size is too small` to make any solid conclusion."
   ]
  },
  {
   "cell_type": "markdown",
   "id": "august-timeline",
   "metadata": {},
   "source": [
    "### Customer segmentation insights\n",
    "#### Gender\n",
    "* Overall, `Male` has `higher` `transaction amount`, `credit amount`, `debit amount` and `balance` compared to `Female`\n",
    "* This makes sense as a higher credit amount and balance enables a higher debit amount\n",
    "* The higher credit amount also contributes to the higher transaction amount\n",
    "\n",
    "#### Age\n",
    "* The `70+` age group is the most interesting age group as it has the highest balance amount. Even with the `least average credit amount`, the `average debit amount is still higher` than the average debit amount of other age group. However, as previously mentioned, the `sample size is too small` to draw any solid conclusion.\n",
    "* It is also interesting to see the `average balance growing` from the `20-29` age group till the `40-49` age group. However, there is a `sudden decrease` in the average balance of people in the `50-59` age group. This may be due to the `average debit amount` of people in the `50-59` age group being the `highest` among all other age groups."
   ]
  },
  {
   "cell_type": "markdown",
   "id": "molecular-healing",
   "metadata": {},
   "source": [
    "## Analysing debit transactions"
   ]
  },
  {
   "cell_type": "markdown",
   "id": "cooperative-differential",
   "metadata": {},
   "source": [
    "### Average number of transaction per month"
   ]
  },
  {
   "cell_type": "code",
   "execution_count": 33,
   "id": "proud-heritage",
   "metadata": {},
   "outputs": [
    {
     "data": {
      "text/html": [
       "<div>\n",
       "<style scoped>\n",
       "    .dataframe tbody tr th:only-of-type {\n",
       "        vertical-align: middle;\n",
       "    }\n",
       "\n",
       "    .dataframe tbody tr th {\n",
       "        vertical-align: top;\n",
       "    }\n",
       "\n",
       "    .dataframe thead th {\n",
       "        text-align: right;\n",
       "    }\n",
       "</style>\n",
       "<table border=\"1\" class=\"dataframe\">\n",
       "  <thead>\n",
       "    <tr style=\"text-align: right;\">\n",
       "      <th></th>\n",
       "      <th>date</th>\n",
       "      <th>status</th>\n",
       "    </tr>\n",
       "  </thead>\n",
       "  <tbody>\n",
       "    <tr>\n",
       "      <th>0</th>\n",
       "      <td>Aug</td>\n",
       "      <td>3645</td>\n",
       "    </tr>\n",
       "    <tr>\n",
       "      <th>1</th>\n",
       "      <td>Sep</td>\n",
       "      <td>3741</td>\n",
       "    </tr>\n",
       "    <tr>\n",
       "      <th>2</th>\n",
       "      <td>Oct</td>\n",
       "      <td>3774</td>\n",
       "    </tr>\n",
       "  </tbody>\n",
       "</table>\n",
       "</div>"
      ],
      "text/plain": [
       "  date  status\n",
       "0  Aug    3645\n",
       "1  Sep    3741\n",
       "2  Oct    3774"
      ]
     },
     "execution_count": 33,
     "metadata": {},
     "output_type": "execute_result"
    }
   ],
   "source": [
    "# Average transaction number per month\n",
    "month_df = df_debit.groupby(df['date'].dt.strftime(\"%b\")).count()\n",
    "month_df = month_df.drop(['date'],axis=1).reset_index()\n",
    "\n",
    "# Re-arrange month in ascending order\n",
    "month_df['month'] = pd.Categorical(month_df['date'], ['Jan', 'Feb', 'Mar', 'Apr', 'May', 'Jun', 'Jul', 'Aug', 'Sep', 'Oct', 'Nov', 'Dec'])\n",
    "month_df = month_df.sort_values(\"month\").reset_index()\n",
    "\n",
    "# Extract only month and transaction count\n",
    "month_df = month_df[['date','status']]\n",
    "month_df"
   ]
  },
  {
   "cell_type": "code",
   "execution_count": 34,
   "id": "concrete-alabama",
   "metadata": {},
   "outputs": [],
   "source": [
    "# Extract values to be plotted in bar chart\n",
    "month_list = month_df['date'].values.tolist()\n",
    "status_list = month_df['status'].values.tolist()"
   ]
  },
  {
   "cell_type": "markdown",
   "id": "agreed-facial",
   "metadata": {},
   "source": [
    "### Average transaction amount per month"
   ]
  },
  {
   "cell_type": "code",
   "execution_count": 35,
   "id": "noble-arlington",
   "metadata": {},
   "outputs": [
    {
     "data": {
      "text/html": [
       "<div>\n",
       "<style scoped>\n",
       "    .dataframe tbody tr th:only-of-type {\n",
       "        vertical-align: middle;\n",
       "    }\n",
       "\n",
       "    .dataframe tbody tr th {\n",
       "        vertical-align: top;\n",
       "    }\n",
       "\n",
       "    .dataframe thead th {\n",
       "        text-align: right;\n",
       "    }\n",
       "</style>\n",
       "<table border=\"1\" class=\"dataframe\">\n",
       "  <thead>\n",
       "    <tr style=\"text-align: right;\">\n",
       "      <th></th>\n",
       "      <th>date</th>\n",
       "      <th>amount</th>\n",
       "    </tr>\n",
       "  </thead>\n",
       "  <tbody>\n",
       "    <tr>\n",
       "      <th>0</th>\n",
       "      <td>Aug</td>\n",
       "      <td>46.672480</td>\n",
       "    </tr>\n",
       "    <tr>\n",
       "      <th>1</th>\n",
       "      <td>Sep</td>\n",
       "      <td>57.191820</td>\n",
       "    </tr>\n",
       "    <tr>\n",
       "      <th>2</th>\n",
       "      <td>Oct</td>\n",
       "      <td>53.691457</td>\n",
       "    </tr>\n",
       "  </tbody>\n",
       "</table>\n",
       "</div>"
      ],
      "text/plain": [
       "  date     amount\n",
       "0  Aug  46.672480\n",
       "1  Sep  57.191820\n",
       "2  Oct  53.691457"
      ]
     },
     "execution_count": 35,
     "metadata": {},
     "output_type": "execute_result"
    }
   ],
   "source": [
    "# Average transaction amount per month\n",
    "month_amount_df =  df_debit.groupby(df['date'].dt.strftime(\"%b\")).mean().reset_index()\n",
    "\n",
    "# Re-arrange month in ascending order\n",
    "month_amount_df['month'] = pd.Categorical(month_amount_df['date'], ['Jan', 'Feb', 'Mar', 'Apr', 'May', 'Jun', 'Jul', 'Aug', 'Sep', 'Oct', 'Nov', 'Dec'])\n",
    "month_amount_df = month_amount_df.sort_values(\"month\").reset_index()\n",
    "\n",
    "# Extract only month and transaction amount\n",
    "month_amount_df = month_amount_df[['date','amount']]\n",
    "month_amount_df"
   ]
  },
  {
   "cell_type": "code",
   "execution_count": 36,
   "id": "buried-ethernet",
   "metadata": {},
   "outputs": [],
   "source": [
    "# Extract values to be plotted in bar chart\n",
    "amount_list = month_amount_df['amount'].values.tolist()"
   ]
  },
  {
   "cell_type": "code",
   "execution_count": 37,
   "id": "romantic-lesson",
   "metadata": {},
   "outputs": [],
   "source": [
    "# Attaches a text label above each bar \n",
    "def autolabel_1(rects):\n",
    "    for rect in rects:\n",
    "        height = rect.get_height()\n",
    "        ax1.annotate('{}'.format(height),\n",
    "                    xy=(rect.get_x() + rect.get_width() / 2, height),\n",
    "                    xytext=(0, 3),  # 3 points vertical offset\n",
    "                    textcoords=\"offset points\",\n",
    "                    ha='center', va='bottom',color=color1)\n",
    "\n",
    "# Attaches a text label above each bar \n",
    "def autolabel_2(rects):\n",
    "    for rect in rects:\n",
    "        height = rect.get_height()\n",
    "        ax2.annotate('${:.0f}'.format(height),\n",
    "                    xy=(rect.get_x() + rect.get_width() / 2, height),\n",
    "                    xytext=(0, 3),  # 3 points vertical offset\n",
    "                    textcoords=\"offset points\",\n",
    "                    ha='center', va='bottom',color=color2)"
   ]
  },
  {
   "cell_type": "code",
   "execution_count": 38,
   "id": "secret-edward",
   "metadata": {},
   "outputs": [
    {
     "data": {
      "image/png": "[encoded data removed]",
      "text/plain": [
       "<Figure size 576x432 with 2 Axes>"
      ]
     },
     "metadata": {
      "needs_background": "light"
     },
     "output_type": "display_data"
    }
   ],
   "source": [
    "# Plot of dual bar graph\n",
    "fig, ax1 = plt.subplots(figsize=(8,6))\n",
    "\n",
    "N = 3\n",
    "x = np.arange(N)\n",
    "width = 0.35\n",
    "\n",
    "# Bar colors\n",
    "color1 = '#89b0ce'\n",
    "color2 = \"#74bbe5\"\n",
    "\n",
    "# First bar graph\n",
    "rects1 = ax1.bar(x - width/2, status_list, width,color=color1)\n",
    "# Second bar graph\n",
    "ax2 = ax1.twinx()\n",
    "rects2 = ax2.bar(x + width/2, amount_list, width,color=color2)\n",
    "\n",
    "# Fine tune display parameters\n",
    "ax1.set_xlabel('Month')\n",
    "ax1.set_ylabel('Average number of transaction')\n",
    "#ax1.tick_params(axis='y',labelcolor=color1)\n",
    "ax2.set_ylabel('Average debit amount ($)')\n",
    "#ax2.tick_params(axis='y',labelcolor=color2)\n",
    "ax2.set_xticks(x)\n",
    "ax2.set_xticklabels(month_list)\n",
    "\n",
    "ax1.tick_params(axis='x', labelsize=16)\n",
    "ax1.tick_params(axis='y', labelsize=16)\n",
    "ax2.tick_params(axis='y', labelsize=16)\n",
    "ax1.xaxis.label.set_size(16)\n",
    "ax1.yaxis.label.set_size(16)\n",
    "ax2.yaxis.label.set_size(16)\n",
    "plt.title('Debit transactions across the months',fontsize=20)\n",
    "\n",
    "# Using function to display value at top of bar graph\n",
    "autolabel_1(rects1)\n",
    "autolabel_2(rects2)\n",
    "fig.tight_layout()\n",
    "\n",
    "plt.show()"
   ]
  },
  {
   "cell_type": "markdown",
   "id": "linear-recorder",
   "metadata": {},
   "source": [
    "We are able to see that `October` has the highest number of transaction while `September` has the highest average debit amount per transaction."
   ]
  },
  {
   "cell_type": "markdown",
   "id": "buried-flashing",
   "metadata": {},
   "source": [
    "### Average number of transaction per day"
   ]
  },
  {
   "cell_type": "code",
   "execution_count": 39,
   "id": "living-apartment",
   "metadata": {},
   "outputs": [
    {
     "data": {
      "text/html": [
       "<div>\n",
       "<style scoped>\n",
       "    .dataframe tbody tr th:only-of-type {\n",
       "        vertical-align: middle;\n",
       "    }\n",
       "\n",
       "    .dataframe tbody tr th {\n",
       "        vertical-align: top;\n",
       "    }\n",
       "\n",
       "    .dataframe thead th {\n",
       "        text-align: right;\n",
       "    }\n",
       "</style>\n",
       "<table border=\"1\" class=\"dataframe\">\n",
       "  <thead>\n",
       "    <tr style=\"text-align: right;\">\n",
       "      <th></th>\n",
       "      <th>day_date</th>\n",
       "      <th>status</th>\n",
       "    </tr>\n",
       "  </thead>\n",
       "  <tbody>\n",
       "    <tr>\n",
       "      <th>0</th>\n",
       "      <td>Monday</td>\n",
       "      <td>1153</td>\n",
       "    </tr>\n",
       "    <tr>\n",
       "      <th>1</th>\n",
       "      <td>Tuesday</td>\n",
       "      <td>1327</td>\n",
       "    </tr>\n",
       "    <tr>\n",
       "      <th>2</th>\n",
       "      <td>Wednesday</td>\n",
       "      <td>1891</td>\n",
       "    </tr>\n",
       "    <tr>\n",
       "      <th>3</th>\n",
       "      <td>Thursday</td>\n",
       "      <td>1658</td>\n",
       "    </tr>\n",
       "    <tr>\n",
       "      <th>4</th>\n",
       "      <td>Friday</td>\n",
       "      <td>1872</td>\n",
       "    </tr>\n",
       "    <tr>\n",
       "      <th>5</th>\n",
       "      <td>Saturday</td>\n",
       "      <td>1709</td>\n",
       "    </tr>\n",
       "    <tr>\n",
       "      <th>6</th>\n",
       "      <td>Sunday</td>\n",
       "      <td>1550</td>\n",
       "    </tr>\n",
       "  </tbody>\n",
       "</table>\n",
       "</div>"
      ],
      "text/plain": [
       "    day_date  status\n",
       "0     Monday    1153\n",
       "1    Tuesday    1327\n",
       "2  Wednesday    1891\n",
       "3   Thursday    1658\n",
       "4     Friday    1872\n",
       "5   Saturday    1709\n",
       "6     Sunday    1550"
      ]
     },
     "execution_count": 39,
     "metadata": {},
     "output_type": "execute_result"
    }
   ],
   "source": [
    "# Average transaction number per day\n",
    "day_df = df_debit.groupby(df_debit['day_date']).count().reset_index()\n",
    "\n",
    "# Re-arrange day in ascending order\n",
    "day_df['day'] = pd.Categorical(day_df['day_date'],['Monday','Tuesday','Wednesday','Thursday','Friday','Saturday','Sunday'])\n",
    "day_df = day_df.sort_values('day').reset_index()\n",
    "\n",
    "# Extract day and transaction count\n",
    "day_df = day_df[['day_date','status']]\n",
    "day_df"
   ]
  },
  {
   "cell_type": "code",
   "execution_count": 40,
   "id": "refined-jamaica",
   "metadata": {},
   "outputs": [],
   "source": [
    "# Extract values to be plotted in bar chart\n",
    "day_list = day_df['day_date'].values.tolist()\n",
    "day_count = day_df['status'].values.tolist()"
   ]
  },
  {
   "cell_type": "markdown",
   "id": "rapid-vulnerability",
   "metadata": {},
   "source": [
    "### Average transaction amount per day"
   ]
  },
  {
   "cell_type": "code",
   "execution_count": 41,
   "id": "confirmed-effects",
   "metadata": {},
   "outputs": [
    {
     "data": {
      "text/html": [
       "<div>\n",
       "<style scoped>\n",
       "    .dataframe tbody tr th:only-of-type {\n",
       "        vertical-align: middle;\n",
       "    }\n",
       "\n",
       "    .dataframe tbody tr th {\n",
       "        vertical-align: top;\n",
       "    }\n",
       "\n",
       "    .dataframe thead th {\n",
       "        text-align: right;\n",
       "    }\n",
       "</style>\n",
       "<table border=\"1\" class=\"dataframe\">\n",
       "  <thead>\n",
       "    <tr style=\"text-align: right;\">\n",
       "      <th></th>\n",
       "      <th>day_date</th>\n",
       "      <th>amount</th>\n",
       "    </tr>\n",
       "  </thead>\n",
       "  <tbody>\n",
       "    <tr>\n",
       "      <th>0</th>\n",
       "      <td>Monday</td>\n",
       "      <td>56.732793</td>\n",
       "    </tr>\n",
       "    <tr>\n",
       "      <th>1</th>\n",
       "      <td>Tuesday</td>\n",
       "      <td>55.946390</td>\n",
       "    </tr>\n",
       "    <tr>\n",
       "      <th>2</th>\n",
       "      <td>Wednesday</td>\n",
       "      <td>50.216520</td>\n",
       "    </tr>\n",
       "    <tr>\n",
       "      <th>3</th>\n",
       "      <td>Thursday</td>\n",
       "      <td>52.881399</td>\n",
       "    </tr>\n",
       "    <tr>\n",
       "      <th>4</th>\n",
       "      <td>Friday</td>\n",
       "      <td>47.670759</td>\n",
       "    </tr>\n",
       "    <tr>\n",
       "      <th>5</th>\n",
       "      <td>Saturday</td>\n",
       "      <td>54.419286</td>\n",
       "    </tr>\n",
       "    <tr>\n",
       "      <th>6</th>\n",
       "      <td>Sunday</td>\n",
       "      <td>53.015845</td>\n",
       "    </tr>\n",
       "  </tbody>\n",
       "</table>\n",
       "</div>"
      ],
      "text/plain": [
       "    day_date     amount\n",
       "0     Monday  56.732793\n",
       "1    Tuesday  55.946390\n",
       "2  Wednesday  50.216520\n",
       "3   Thursday  52.881399\n",
       "4     Friday  47.670759\n",
       "5   Saturday  54.419286\n",
       "6     Sunday  53.015845"
      ]
     },
     "execution_count": 41,
     "metadata": {},
     "output_type": "execute_result"
    }
   ],
   "source": [
    "# Average transaction amount per month\n",
    "day_amount_df = df_debit.groupby(df_debit['day_date']).mean().reset_index()\n",
    "\n",
    "# Re-arrange day in ascending order\n",
    "day_amount_df['day'] = pd.Categorical(day_amount_df['day_date'],['Monday','Tuesday','Wednesday','Thursday','Friday','Saturday','Sunday'])\n",
    "day_amount_df = day_amount_df.sort_values('day').reset_index()\n",
    "\n",
    "# Extract day and transaction amount\n",
    "day_amount_df = day_amount_df[['day_date','amount']]\n",
    "day_amount_df"
   ]
  },
  {
   "cell_type": "code",
   "execution_count": 42,
   "id": "surprising-birth",
   "metadata": {},
   "outputs": [],
   "source": [
    "# Extract values to be plotted in bar chart\n",
    "day_amount = day_amount_df['amount'].values.tolist()"
   ]
  },
  {
   "cell_type": "code",
   "execution_count": 43,
   "id": "cultural-dining",
   "metadata": {},
   "outputs": [
    {
     "data": {
      "image/png": "[encoded data removed]",
      "text/plain": [
       "<Figure size 864x432 with 2 Axes>"
      ]
     },
     "metadata": {
      "needs_background": "light"
     },
     "output_type": "display_data"
    }
   ],
   "source": [
    "# Plot of dual bar graph\n",
    "fig, ax1 = plt.subplots(figsize=(12,6))\n",
    "\n",
    "N = 7\n",
    "x = np.arange(N)\n",
    "width = 0.35\n",
    "\n",
    "# Bar colors\n",
    "color1 = '#89b0ce'\n",
    "color2 = \"#74bbe5\"\n",
    "\n",
    "# First bar graph\n",
    "rects1 = ax1.bar(x - width/2, day_count, width,color=color1)\n",
    "# Second bar graph\n",
    "ax2 = ax1.twinx()\n",
    "rects2 = ax2.bar(x + width/2, day_amount, width,color=color2)\n",
    "\n",
    "# Fine tune display parameters\n",
    "ax1.set_xlabel('Day')\n",
    "ax1.set_ylabel('Average number of transaction')\n",
    "#ax1.tick_params(axis='y',labelcolor=color1)\n",
    "ax2.set_ylabel('Average debit amount ($)')\n",
    "#ax2.tick_params(axis='y',labelcolor=color2)\n",
    "ax2.set_xticks(x)\n",
    "ax2.set_xticklabels(day_list)\n",
    "\n",
    "ax1.tick_params(axis='x', labelsize=16)\n",
    "ax1.tick_params(axis='y', labelsize=16)\n",
    "ax2.tick_params(axis='y', labelsize=16)\n",
    "ax1.xaxis.label.set_size(16)\n",
    "ax1.yaxis.label.set_size(16)\n",
    "ax2.yaxis.label.set_size(16)\n",
    "plt.title('Debit transactions across the days',fontsize=20)\n",
    "\n",
    "# Using function to display value at top of bar graph\n",
    "autolabel_1(rects1)\n",
    "autolabel_2(rects2)\n",
    "fig.tight_layout()\n",
    "\n",
    "plt.show()"
   ]
  },
  {
   "cell_type": "markdown",
   "id": "tropical-bahamas",
   "metadata": {},
   "source": [
    "We are able to see that the `Wednesday` and `Friday` are days where `average number of transactions are highest`.\n",
    "\n",
    "The average debit amount does not differ too much from day to day."
   ]
  },
  {
   "cell_type": "code",
   "execution_count": 44,
   "id": "smoking-bachelor",
   "metadata": {},
   "outputs": [
    {
     "data": {
      "text/html": [
       "<div>\n",
       "<style scoped>\n",
       "    .dataframe tbody tr th:only-of-type {\n",
       "        vertical-align: middle;\n",
       "    }\n",
       "\n",
       "    .dataframe tbody tr th {\n",
       "        vertical-align: top;\n",
       "    }\n",
       "\n",
       "    .dataframe thead th {\n",
       "        text-align: right;\n",
       "    }\n",
       "</style>\n",
       "<table border=\"1\" class=\"dataframe\">\n",
       "  <thead>\n",
       "    <tr style=\"text-align: right;\">\n",
       "      <th></th>\n",
       "      <th>day_date</th>\n",
       "      <th>status</th>\n",
       "      <th>amount</th>\n",
       "      <th>volume</th>\n",
       "    </tr>\n",
       "  </thead>\n",
       "  <tbody>\n",
       "    <tr>\n",
       "      <th>0</th>\n",
       "      <td>Monday</td>\n",
       "      <td>1153</td>\n",
       "      <td>56.732793</td>\n",
       "      <td>65412.91</td>\n",
       "    </tr>\n",
       "    <tr>\n",
       "      <th>1</th>\n",
       "      <td>Tuesday</td>\n",
       "      <td>1327</td>\n",
       "      <td>55.946390</td>\n",
       "      <td>74240.86</td>\n",
       "    </tr>\n",
       "    <tr>\n",
       "      <th>2</th>\n",
       "      <td>Wednesday</td>\n",
       "      <td>1891</td>\n",
       "      <td>50.216520</td>\n",
       "      <td>94959.44</td>\n",
       "    </tr>\n",
       "    <tr>\n",
       "      <th>3</th>\n",
       "      <td>Thursday</td>\n",
       "      <td>1658</td>\n",
       "      <td>52.881399</td>\n",
       "      <td>87677.36</td>\n",
       "    </tr>\n",
       "    <tr>\n",
       "      <th>4</th>\n",
       "      <td>Friday</td>\n",
       "      <td>1872</td>\n",
       "      <td>47.670759</td>\n",
       "      <td>89239.66</td>\n",
       "    </tr>\n",
       "    <tr>\n",
       "      <th>5</th>\n",
       "      <td>Saturday</td>\n",
       "      <td>1709</td>\n",
       "      <td>54.419286</td>\n",
       "      <td>93002.56</td>\n",
       "    </tr>\n",
       "    <tr>\n",
       "      <th>6</th>\n",
       "      <td>Sunday</td>\n",
       "      <td>1550</td>\n",
       "      <td>53.015845</td>\n",
       "      <td>82174.56</td>\n",
       "    </tr>\n",
       "  </tbody>\n",
       "</table>\n",
       "</div>"
      ],
      "text/plain": [
       "    day_date  status     amount    volume\n",
       "0     Monday    1153  56.732793  65412.91\n",
       "1    Tuesday    1327  55.946390  74240.86\n",
       "2  Wednesday    1891  50.216520  94959.44\n",
       "3   Thursday    1658  52.881399  87677.36\n",
       "4     Friday    1872  47.670759  89239.66\n",
       "5   Saturday    1709  54.419286  93002.56\n",
       "6     Sunday    1550  53.015845  82174.56"
      ]
     },
     "execution_count": 44,
     "metadata": {},
     "output_type": "execute_result"
    }
   ],
   "source": [
    "# Merging transaction count and transaction amount\n",
    "day_merged_df = pd.merge(day_df,day_amount_df,on=['day_date'])\n",
    "\n",
    "# Obtaining transaction volume by multiplying count and transaction amount\n",
    "day_merged_df['volume'] = day_merged_df['status']*day_merged_df['amount']\n",
    "day_merged_df"
   ]
  },
  {
   "cell_type": "code",
   "execution_count": 45,
   "id": "elect-active",
   "metadata": {},
   "outputs": [],
   "source": [
    "# Extract values to be plotted in bar chart\n",
    "day_count = day_merged_df['volume'].values.tolist()"
   ]
  },
  {
   "cell_type": "code",
   "execution_count": 46,
   "id": "vital-window",
   "metadata": {},
   "outputs": [
    {
     "data": {
      "image/png": "[encoded data removed]",
      "text/plain": [
       "<Figure size 864x432 with 1 Axes>"
      ]
     },
     "metadata": {
      "needs_background": "light"
     },
     "output_type": "display_data"
    }
   ],
   "source": [
    "fig = plt.figure(figsize=(12,6))\n",
    "ax = fig.add_axes([0,0,1,1])\n",
    "ax.bar(day_list,day_count,color=['#a3c7e2','#a3c7e2','#e6b8c4','#a3c7e2','#e6b8c4','#e6b8c4','#a3c7e2'])\n",
    "ax.set_xlabel('Day')\n",
    "ax.set_ylabel('Total debit volume ($)')\n",
    "plt.title('Total debit volume across days',fontsize=20)\n",
    "ax.tick_params(axis='x', labelsize=16)\n",
    "ax.tick_params(axis='y', labelsize=16)\n",
    "ax.xaxis.label.set_size(16)\n",
    "ax.yaxis.label.set_size(16)\n",
    "plt.show()"
   ]
  },
  {
   "cell_type": "markdown",
   "id": "overall-perspective",
   "metadata": {},
   "source": [
    "However, when taking account of `volume of debit` (average number of transaction * average debit amount), the ranking changes slightly.\n",
    "\n",
    "The highest volume occurs in the following order:\n",
    "\n",
    "* Wednesday\n",
    "* Saturday\n",
    "* Friday\n",
    "\n",
    "This is due to the fact that the `average debit amount` on `Saturday` being `higher` than `Friday`."
   ]
  },
  {
   "cell_type": "markdown",
   "id": "protecting-whole",
   "metadata": {},
   "source": [
    "### Transaction Type Insights"
   ]
  },
  {
   "cell_type": "code",
   "execution_count": 47,
   "id": "blond-irrigation",
   "metadata": {},
   "outputs": [],
   "source": [
    "# Transaction df to obtain count based on group\n",
    "txn_df = df.groupby(df['txn_description']).count().reset_index()\n",
    "txn_df = txn_df[['txn_description','status']].sort_values(by=['status'])"
   ]
  },
  {
   "cell_type": "code",
   "execution_count": 48,
   "id": "special-sending",
   "metadata": {},
   "outputs": [],
   "source": [
    "# Extract values to be plotted\n",
    "txn_key = txn_df['txn_description'].values.tolist()\n",
    "txn_value = txn_df['status'].values.tolist()"
   ]
  },
  {
   "cell_type": "code",
   "execution_count": 49,
   "id": "wanted-clothing",
   "metadata": {},
   "outputs": [],
   "source": [
    "# Extract only Phone Bank txn_description transactions\n",
    "phone_bank_df = df[df['txn_description'] == 'PHONE BANK']\n",
    "phone_bank_df = phone_bank_df.groupby('age_label').count().reset_index()\n",
    "phone_bank_df = phone_bank_df[['age_label','status']]\n",
    "phone_bank_df['perct'] = phone_bank_df['status']/phone_bank_df['status'].sum()"
   ]
  },
  {
   "cell_type": "code",
   "execution_count": 50,
   "id": "educational-andrews",
   "metadata": {},
   "outputs": [],
   "source": [
    "# Extract values to be plotted in bar chart\n",
    "age_label_list = phone_bank_df['age_label'].values.tolist()\n",
    "age_perct = phone_bank_df['perct'].values.tolist()"
   ]
  },
  {
   "cell_type": "code",
   "execution_count": 51,
   "id": "equipped-tobacco",
   "metadata": {},
   "outputs": [
    {
     "data": {
      "image/png": "[encoded data removed]",
      "text/plain": [
       "<Figure size 720x864 with 2 Axes>"
      ]
     },
     "metadata": {
      "needs_background": "light"
     },
     "output_type": "display_data"
    }
   ],
   "source": [
    "# Make figure and assign axis objects\n",
    "fig = plt.figure(figsize=(10, 12))\n",
    "ax1 = fig.add_subplot(121)\n",
    "ax2 = fig.add_subplot(122)\n",
    "fig.subplots_adjust(wspace=0)\n",
    "\n",
    "# Plotting pie chart\n",
    "colors = [\"#8cc3ec\",\"#d3b3e3\",\"#ddc99b\",\"#acd9aa\",\"#ecaaae\",\"#82d9d8\"]\n",
    "explode = [0.2, 0, 0,0,0,0]\n",
    "ax1.pie(txn_value, autopct='%1.0f%%', startangle=0,\n",
    "        labels=txn_key, explode=explode,labeldistance=1.1,colors=colors)\n",
    "\n",
    "# Bar chart parameters\n",
    "xpos = 0\n",
    "bottom = 0\n",
    "ratios = age_perct\n",
    "width = .2\n",
    "colors =[\"#3fadaf\",\"#cc5642\",\"#cb5c71\",\"#8b71cb\",\"#d93367\",\"#c8598f\",\"#6191d2\"]\n",
    "\n",
    "# Plotting bar chart\n",
    "for j in range(len(ratios)):\n",
    "    height = ratios[j]\n",
    "    ax2.bar(xpos, height, width, bottom=bottom,color=colors[j])\n",
    "    ypos = bottom + ax2.patches[j].get_height() / 2\n",
    "    bottom += height\n",
    "    ax2.text(xpos, ypos, \"%d%%\" % (ax2.patches[j].get_height() * 100),\n",
    "             ha='center')\n",
    "    \n",
    "ax2.set_title('Age of users')\n",
    "ax2.legend((age_label_list),loc=7) \n",
    "ax2.axis('off')\n",
    "ax2.set_xlim(- 2.5 * width, 2.5 * width)\n",
    "\n",
    "# Use ConnectionPatch to draw lines between the two plots\n",
    "theta1, theta2 = ax1.patches[0].theta1, ax1.patches[0].theta2\n",
    "center, r = ax1.patches[0].center, ax1.patches[0].r\n",
    "bar_height = sum([item.get_height() for item in ax2.patches])\n",
    "\n",
    "# Draw top connecting line\n",
    "x = r * np.cos(np.pi / 180 * theta2) + center[0]\n",
    "y = r * np.sin(np.pi / 180 * theta2) + center[1]\n",
    "con = ConnectionPatch(xyA=(-width / 2, bar_height), coordsA=ax2.transData,\n",
    "                      xyB=(x, y), coordsB=ax1.transData)\n",
    "con.set_color([0, 0, 0])\n",
    "con.set_linewidth(0.1)\n",
    "ax2.add_artist(con)\n",
    "\n",
    "# Draw bottom connecting line\n",
    "x = r * np.cos(np.pi / 180 * theta1) + center[0]\n",
    "y = r * np.sin(np.pi / 180 * theta1) + center[1]\n",
    "con = ConnectionPatch(xyA=(-width / 2, 0), coordsA=ax2.transData,\n",
    "                      xyB=(x, y), coordsB=ax1.transData)\n",
    "con.set_color([0, 0, 0])\n",
    "ax2.add_artist(con)\n",
    "con.set_linewidth(0.1)\n",
    "\n",
    "plt.show()"
   ]
  },
  {
   "cell_type": "markdown",
   "id": "numerous-terrain",
   "metadata": {},
   "source": [
    "ANZ should consider `terminating phone bank operations` as only 1% of it's customer uses it.\n",
    "\n",
    "Moreover, almost 77% of the phone bank users are from the age group 18-19, 20-29, 30-39. \n",
    "\n",
    "These age group are able to `quickly adapt` to `other type of services` with ease."
   ]
  },
  {
   "cell_type": "markdown",
   "id": "deluxe-camping",
   "metadata": {},
   "source": [
    "## Merchant Demographic"
   ]
  },
  {
   "cell_type": "code",
   "execution_count": 52,
   "id": "another-mediterranean",
   "metadata": {},
   "outputs": [],
   "source": [
    "# Drop duplicate merchants\n",
    "unique_merchant = df.drop_duplicates(subset=['merchant_long_lat'])\n",
    "\n",
    "# Groupby merchant state\n",
    "merchant_df = unique_merchant.groupby('merchant_state',as_index=False).count()\n",
    "merchant_df = merchant_df[['merchant_state','status']]"
   ]
  },
  {
   "cell_type": "code",
   "execution_count": 53,
   "id": "flush-bradford",
   "metadata": {},
   "outputs": [
    {
     "data": {
      "text/plain": [
       "merchant_state    ACTNSWNTQLDSATASVICWA\n",
       "status                             2703\n",
       "dtype: object"
      ]
     },
     "execution_count": 53,
     "metadata": {},
     "output_type": "execute_result"
    }
   ],
   "source": [
    "# Number of unique merchants\n",
    "merchant_df.sum()"
   ]
  },
  {
   "cell_type": "code",
   "execution_count": 54,
   "id": "adaptive-alarm",
   "metadata": {},
   "outputs": [],
   "source": [
    "# Extract values to be plotted\n",
    "merchant_state = merchant_df['merchant_state'].values.tolist()\n",
    "merchant_count = merchant_df['status'].values.tolist()"
   ]
  },
  {
   "cell_type": "code",
   "execution_count": 55,
   "id": "magnetic-overview",
   "metadata": {},
   "outputs": [],
   "source": [
    "# Obtaining map_df\n",
    "# This data is obtained from \n",
    "# https://www.abs.gov.au/AUSSTATS/abs@.nsf/DetailsPage/1270.0.55.003June%202020?OpenDocument\n",
    "fp = \"LGA_2020_AUST.shp\"\n",
    "map_df = gdp.read_file(fp)"
   ]
  },
  {
   "cell_type": "code",
   "execution_count": 56,
   "id": "burning-contributor",
   "metadata": {},
   "outputs": [],
   "source": [
    "# Renaming column\n",
    "map_df = map_df.rename(columns={\"STE_NAME16\":\"state\"})\n",
    "# Replacing state name to abbreviation\n",
    "map_df['state'].replace({\"New South Wales\":\"NSW\",\"Victoria\":\"VIC\",\"Queensland\":\"QLD\",\"South Australia\":\"SA\",\"Western Australia\":\"WA\",\"Tasmania\":\"TAS\",\"Northern Territory\":\"NT\",\"Australian Capital Territory\":\"ACT\",\"Other Territories\":\"Other\"},inplace=True)"
   ]
  },
  {
   "cell_type": "code",
   "execution_count": 57,
   "id": "satellite-mixer",
   "metadata": {},
   "outputs": [],
   "source": [
    "# Merging merchant_df and map_df\n",
    "merged = map_df.merge(merchant_df, left_on='state',right_on='merchant_state')"
   ]
  },
  {
   "cell_type": "code",
   "execution_count": 58,
   "id": "animal-association",
   "metadata": {
    "scrolled": true
   },
   "outputs": [
    {
     "data": {
      "image/png": "[encoded data removed]",
      "text/plain": [
       "<Figure size 864x432 with 2 Axes>"
      ]
     },
     "metadata": {
      "needs_background": "light"
     },
     "output_type": "display_data"
    }
   ],
   "source": [
    "# Plotting Choropleth based on number of merchant \n",
    "variable = \"status\"\n",
    "# Set the range for the choropleth\n",
    "vmin, vmax = 0, 1000\n",
    "# Create figure and axes for Matplotlib\n",
    "fig, ax = plt.subplots(1, figsize=(12, 6))\n",
    "# Create map\n",
    "merged.plot(column=variable, cmap='Blues', linewidth=0.8, ax=ax, edgecolor='0.8')\n",
    "# Remove axis\n",
    "ax.axis('off')\n",
    "# Add a title\n",
    "ax.set_title('Merchant distribution in Australia', fontdict={'fontsize': '25', 'fontweight' : '3'})\n",
    "# Create colorbar as a legend\n",
    "sm = plt.cm.ScalarMappable(cmap='Blues', norm=plt.Normalize(vmin=vmin, vmax=vmax))\n",
    "# Empty array for the data range\n",
    "sm._A = []\n",
    "# Add the colorbar to the figure\n",
    "cbar = fig.colorbar(sm)\n",
    "# Saving as image\n",
    "fig.savefig('map_export.png', dpi=300)"
   ]
  },
  {
   "cell_type": "markdown",
   "id": "stopped-employment",
   "metadata": {},
   "source": [
    "Merchant `density is higher` in states such as `Victoria` and `New South Wales`. \n",
    "\n",
    "This makes sense as there are `large cities` such as `Melbourne` and `Sydney` in these states.\n",
    "\n",
    "ANZ should consider `strengthening its foothold` in the `Northern Territory` as there are very little merchants there.\n"
   ]
  }
 ],
 "metadata": {
  "kernelspec": {
   "display_name": "Python 3",
   "language": "python",
   "name": "python3"
  },
  "language_info": {
   "codemirror_mode": {
    "name": "ipython",
    "version": 3
   },
   "file_extension": ".py",
   "mimetype": "text/x-python",
   "name": "python",
   "nbconvert_exporter": "python",
   "pygments_lexer": "ipython3",
   "version": "3.9.1"
  }
 },
 "nbformat": 4,
 "nbformat_minor": 5
}
